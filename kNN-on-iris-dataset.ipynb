{
 "cells": [
  {
   "cell_type": "markdown",
   "id": "888b0823",
   "metadata": {
    "papermill": {
     "duration": 0.003546,
     "end_time": "2025-03-09T22:42:56.259961",
     "exception": false,
     "start_time": "2025-03-09T22:42:56.256415",
     "status": "completed"
    },
    "tags": []
   },
   "source": [
    "This notebook demonstrates how the k-Nearest Neighbors algorithm operates on the famous Iris dataset. The goal is to evaluate the performance of kNN by varying the number of neighbors (k) and measure its accuracy\n",
    "\n",
    "Only for learning and practicing purposes.\n",
    "\n",
    "**What's in the notebook?**\n",
    "* import the necassary libraries\n",
    "* load the iris dataset\n",
    "* train-test split\n",
    "* defining the kNN class and writing the algorithm from scratch with the distance metrics of euclidean and manhattan\n",
    "* making the prediction and evaluating accuracy for different values of k\n",
    "* Visualize model performance with a confusion matrix\n"
   ]
  },
  {
   "cell_type": "code",
   "execution_count": 1,
   "id": "43dd6dc1",
   "metadata": {
    "execution": {
     "iopub.execute_input": "2025-03-09T22:42:56.269024Z",
     "iopub.status.busy": "2025-03-09T22:42:56.268687Z",
     "iopub.status.idle": "2025-03-09T22:42:58.686140Z",
     "shell.execute_reply": "2025-03-09T22:42:58.685348Z"
    },
    "papermill": {
     "duration": 2.421498,
     "end_time": "2025-03-09T22:42:58.687551",
     "exception": false,
     "start_time": "2025-03-09T22:42:56.266053",
     "status": "completed"
    },
    "tags": []
   },
   "outputs": [],
   "source": [
    "import numpy as np\n",
    "import pandas as pd\n",
    "from sklearn.model_selection import train_test_split\n",
    "from sklearn.metrics import accuracy_score\n",
    "from sklearn.datasets import load_iris\n",
    "from scipy import stats\n",
    "import matplotlib.pyplot as plt"
   ]
  },
  {
   "cell_type": "code",
   "execution_count": 2,
   "id": "70309a65",
   "metadata": {
    "execution": {
     "iopub.execute_input": "2025-03-09T22:42:58.691876Z",
     "iopub.status.busy": "2025-03-09T22:42:58.691527Z",
     "iopub.status.idle": "2025-03-09T22:42:58.722742Z",
     "shell.execute_reply": "2025-03-09T22:42:58.721994Z"
    },
    "papermill": {
     "duration": 0.034469,
     "end_time": "2025-03-09T22:42:58.723900",
     "exception": false,
     "start_time": "2025-03-09T22:42:58.689431",
     "status": "completed"
    },
    "tags": []
   },
   "outputs": [
    {
     "data": {
      "text/html": [
       "<div>\n",
       "<style scoped>\n",
       "    .dataframe tbody tr th:only-of-type {\n",
       "        vertical-align: middle;\n",
       "    }\n",
       "\n",
       "    .dataframe tbody tr th {\n",
       "        vertical-align: top;\n",
       "    }\n",
       "\n",
       "    .dataframe thead th {\n",
       "        text-align: right;\n",
       "    }\n",
       "</style>\n",
       "<table border=\"1\" class=\"dataframe\">\n",
       "  <thead>\n",
       "    <tr style=\"text-align: right;\">\n",
       "      <th></th>\n",
       "      <th>sepal length (cm)</th>\n",
       "      <th>sepal width (cm)</th>\n",
       "      <th>petal length (cm)</th>\n",
       "      <th>petal width (cm)</th>\n",
       "    </tr>\n",
       "  </thead>\n",
       "  <tbody>\n",
       "    <tr>\n",
       "      <th>0</th>\n",
       "      <td>5.1</td>\n",
       "      <td>3.5</td>\n",
       "      <td>1.4</td>\n",
       "      <td>0.2</td>\n",
       "    </tr>\n",
       "    <tr>\n",
       "      <th>1</th>\n",
       "      <td>4.9</td>\n",
       "      <td>3.0</td>\n",
       "      <td>1.4</td>\n",
       "      <td>0.2</td>\n",
       "    </tr>\n",
       "    <tr>\n",
       "      <th>2</th>\n",
       "      <td>4.7</td>\n",
       "      <td>3.2</td>\n",
       "      <td>1.3</td>\n",
       "      <td>0.2</td>\n",
       "    </tr>\n",
       "    <tr>\n",
       "      <th>3</th>\n",
       "      <td>4.6</td>\n",
       "      <td>3.1</td>\n",
       "      <td>1.5</td>\n",
       "      <td>0.2</td>\n",
       "    </tr>\n",
       "    <tr>\n",
       "      <th>4</th>\n",
       "      <td>5.0</td>\n",
       "      <td>3.6</td>\n",
       "      <td>1.4</td>\n",
       "      <td>0.2</td>\n",
       "    </tr>\n",
       "  </tbody>\n",
       "</table>\n",
       "</div>"
      ],
      "text/plain": [
       "   sepal length (cm)  sepal width (cm)  petal length (cm)  petal width (cm)\n",
       "0                5.1               3.5                1.4               0.2\n",
       "1                4.9               3.0                1.4               0.2\n",
       "2                4.7               3.2                1.3               0.2\n",
       "3                4.6               3.1                1.5               0.2\n",
       "4                5.0               3.6                1.4               0.2"
      ]
     },
     "execution_count": 2,
     "metadata": {},
     "output_type": "execute_result"
    }
   ],
   "source": [
    "data = load_iris()\n",
    "df = pd.DataFrame(data=data.data,columns=data.feature_names)\n",
    "df.head()\n"
   ]
  },
  {
   "cell_type": "code",
   "execution_count": 3,
   "id": "5d61312e",
   "metadata": {
    "execution": {
     "iopub.execute_input": "2025-03-09T22:42:58.728151Z",
     "iopub.status.busy": "2025-03-09T22:42:58.727929Z",
     "iopub.status.idle": "2025-03-09T22:42:58.735104Z",
     "shell.execute_reply": "2025-03-09T22:42:58.734413Z"
    },
    "papermill": {
     "duration": 0.010238,
     "end_time": "2025-03-09T22:42:58.736097",
     "exception": false,
     "start_time": "2025-03-09T22:42:58.725859",
     "status": "completed"
    },
    "tags": []
   },
   "outputs": [],
   "source": [
    "x,y = data.data,data.target\n",
    "X_train,X_test,y_train,y_test = train_test_split(\n",
    "    x,y, test_size=0.2,random_state=42\n",
    ")"
   ]
  },
  {
   "cell_type": "code",
   "execution_count": 4,
   "id": "71b552ee",
   "metadata": {
    "execution": {
     "iopub.execute_input": "2025-03-09T22:42:58.740352Z",
     "iopub.status.busy": "2025-03-09T22:42:58.740096Z",
     "iopub.status.idle": "2025-03-09T22:42:58.745804Z",
     "shell.execute_reply": "2025-03-09T22:42:58.745106Z"
    },
    "papermill": {
     "duration": 0.008888,
     "end_time": "2025-03-09T22:42:58.746866",
     "exception": false,
     "start_time": "2025-03-09T22:42:58.737978",
     "status": "completed"
    },
    "tags": []
   },
   "outputs": [],
   "source": [
    "class kNN():\n",
    "    def __init__(self, k=2, metric='euclidean', p=None):\n",
    "        self.k = k\n",
    "        self.metric = metric\n",
    "        self.p = p\n",
    "    \n",
    "    def euclidean(self, v1, v2):\n",
    "        return np.sqrt(np.sum((v1-v2)**2))\n",
    "    \n",
    "    def manhattan(self, v1, v2):\n",
    "        return np.sum(np.abs(v1-v2))\n",
    "    \n",
    "        \n",
    "    def fit(self, X_train, y_train):\n",
    "        self.X_train = X_train\n",
    "        self.y_train = y_train\n",
    "        \n",
    "\n",
    "    def predict(self, X_test):\n",
    "        preds = []\n",
    "        for test_row in X_test:\n",
    "            nearest_neighbours = self.get_neighbours(test_row)\n",
    "            majority = stats.mode(nearest_neighbours).mode\n",
    "\n",
    "            preds.append(majority)\n",
    "        return np.array(preds)\n",
    "\n",
    "    def get_neighbours(self, test_row):\n",
    "        distances = list()\n",
    "        \n",
    "        for (train_row, train_class) in zip(self.X_train, self.y_train):\n",
    "            if self.metric=='euclidean':\n",
    "                dist = self.euclidean(train_row, test_row)\n",
    "            elif self.metric=='manhattan':\n",
    "                dist = self.manhattan(train_row, test_row)\n",
    "            else:\n",
    "                raise NameError('Supported metrics are euclidean, manhattan and minkowski')\n",
    "            distances.append((dist, train_class))\n",
    "            \n",
    "\n",
    "        distances.sort(key=lambda x: x[0])\n",
    "        neighbours = list()\n",
    "        for i in range(self.k):\n",
    "            neighbours.append(distances[i][1])\n",
    "            \n",
    "        return neighbours"
   ]
  },
  {
   "cell_type": "code",
   "execution_count": 5,
   "id": "5d6a39ce",
   "metadata": {
    "execution": {
     "iopub.execute_input": "2025-03-09T22:42:58.750910Z",
     "iopub.status.busy": "2025-03-09T22:42:58.750683Z",
     "iopub.status.idle": "2025-03-09T22:42:58.811254Z",
     "shell.execute_reply": "2025-03-09T22:42:58.810475Z"
    },
    "papermill": {
     "duration": 0.063951,
     "end_time": "2025-03-09T22:42:58.812524",
     "exception": false,
     "start_time": "2025-03-09T22:42:58.748573",
     "status": "completed"
    },
    "tags": []
   },
   "outputs": [
    {
     "name": "stdout",
     "output_type": "stream",
     "text": [
      "Metric: euclidean, accuracy: 96.67%\n",
      "Metric: manhattan, accuracy: 100.00%\n"
     ]
    }
   ],
   "source": [
    "\n",
    "for metric in ['euclidean', 'manhattan']:\n",
    "    clf = kNN(k=7, metric=metric)\n",
    "    clf.fit(X_train, y_train)\n",
    "    preds = clf.predict(X_test)\n",
    "    accuracy = accuracy_score(y_test, preds) * 100\n",
    "    print(f'Metric: {metric}, accuracy: {accuracy:.2f}%')"
   ]
  },
  {
   "cell_type": "code",
   "execution_count": 6,
   "id": "53b971ea",
   "metadata": {
    "execution": {
     "iopub.execute_input": "2025-03-09T22:42:58.817072Z",
     "iopub.status.busy": "2025-03-09T22:42:58.816843Z",
     "iopub.status.idle": "2025-03-09T22:42:59.093531Z",
     "shell.execute_reply": "2025-03-09T22:42:59.092677Z"
    },
    "papermill": {
     "duration": 0.280188,
     "end_time": "2025-03-09T22:42:59.094747",
     "exception": false,
     "start_time": "2025-03-09T22:42:58.814559",
     "status": "completed"
    },
    "tags": []
   },
   "outputs": [
    {
     "data": {
      "text/plain": [
       "<Figure size 1000x900 with 0 Axes>"
      ]
     },
     "metadata": {},
     "output_type": "display_data"
    },
    {
     "data": {
      "image/png": "[encoded data removed]",
      "text/plain": [
       "<Figure size 640x480 with 2 Axes>"
      ]
     },
     "metadata": {},
     "output_type": "display_data"
    }
   ],
   "source": [
    "from sklearn.metrics import confusion_matrix, ConfusionMatrixDisplay\n",
    "\n",
    "cm = confusion_matrix(y_test, preds)\n",
    "\n",
    "plt.figure(figsize=(10,9))\n",
    "disp = ConfusionMatrixDisplay(confusion_matrix=cm, display_labels=data.target_names)\n",
    "disp = disp.plot(cmap='Blues')\n",
    "\n",
    "plt.title('kNN Confusion Matrix (Iris Dataset)')\n",
    "plt.show()"
   ]
  }
 ],
 "metadata": {
  "kaggle": {
   "accelerator": "none",
   "dataSources": [
    {
     "datasetId": 17860,
     "sourceId": 23404,
     "sourceType": "datasetVersion"
    }
   ],
   "dockerImageVersionId": 30918,
   "isGpuEnabled": false,
   "isInternetEnabled": true,
   "language": "python",
   "sourceType": "notebook"
  },
  "kernelspec": {
   "display_name": "Python 3",
   "language": "python",
   "name": "python3"
  },
  "language_info": {
   "codemirror_mode": {
    "name": "ipython",
    "version": 3
   },
   "file_extension": ".py",
   "mimetype": "text/x-python",
   "name": "python",
   "nbconvert_exporter": "python",
   "pygments_lexer": "ipython3",
   "version": "3.10.12"
  },
  "papermill": {
   "default_parameters": {},
   "duration": 5.631257,
   "end_time": "2025-03-09T22:42:59.716531",
   "environment_variables": {},
   "exception": null,
   "input_path": "__notebook__.ipynb",
   "output_path": "__notebook__.ipynb",
   "parameters": {},
   "start_time": "2025-03-09T22:42:54.085274",
   "version": "2.6.0"
  }
 },
 "nbformat": 4,
 "nbformat_minor": 5
}
